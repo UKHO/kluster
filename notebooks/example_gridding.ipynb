{
 "cells": [
  {
   "cell_type": "code",
   "execution_count": null,
   "metadata": {},
   "outputs": [],
   "source": [
    "# Examples related to gridding, last updated 11/3/2021, Kluster 0.8.2\n",
    "# uses the multibeam file hstb_kluster/test_data/0009_20170523_181119_FA2806.all\n",
    "# Written by Eric Younkin\n",
    "\n",
    "# gridding is the process of taking point data (x y and z) and grouping/binning the data within cells of a predetermined\n",
    "# size (resolution).  Kluster uses the bathygrid module (https://github.com/noaa-ocs-hydrography/bathygrid) to do this\n",
    "# gridding.  Points are split into tiles, and those tiles contain the points/grid data.  Grids can be single resolution,\n",
    "# where all tiles contain grids of the same size, or a tile can be variable resolution, where each tile can be its own\n",
    "# resolution."
   ]
  },
  {
   "cell_type": "code",
   "execution_count": null,
   "metadata": {},
   "outputs": [],
   "source": [
    "from HSTB.kluster.fqpr_convenience import reload_data, generate_new_surface, update_surface, reload_surface\n",
    "from HSTB.kluster.fqpr_intelligence import intel_process"
   ]
  },
  {
   "cell_type": "code",
   "execution_count": null,
   "metadata": {},
   "outputs": [],
   "source": [
    "# we start with one of the preferred processing steps from the data_processing example\n",
    "_, fq = intel_process(r\"C:\\data_dir\\0009_20170523_181119_FA2806.all\")\n",
    "fq = fq[0]  # this should just be a list of one element if you have just one sonar/day of data, take the first one to get the data"
   ]
  },
  {
   "cell_type": "code",
   "execution_count": null,
   "metadata": {},
   "outputs": [],
   "source": [
    "# or we can just reload if you have data from before\n",
    "fq = reload_data(r\"C:\\data_dir\\em2040_40111_05_23_2017\")"
   ]
  },
  {
   "cell_type": "code",
   "execution_count": null,
   "metadata": {},
   "outputs": [],
   "source": [
    "# from here, we simply generate a new grid.  Let's start with a simple one, a single resolution grid (where the cells\n",
    "#  are all the same size/resolution) and that resolution is automatically determined by the depth of the data.\n",
    "\n",
    "# the points from the Fqpr Kluster object will be added to the grid object, and the grid object will automatically run\n",
    "#  the gridding routine with the 'mean' algorithm\n",
    "\n",
    "# the one setting we will use is the output_path, where we specify the output directory.  If we were not to do this,\n",
    "#  the grid will exist entirely in memory, which might cause memory issues later\n",
    "bs = generate_new_surface(fq, output_path=r\"C:\\data_dir\\mygridpath\")"
   ]
  },
  {
   "cell_type": "code",
   "execution_count": null,
   "metadata": {},
   "outputs": [],
   "source": [
    "# adding points and gridding will set some useful attributes in the class\n",
    "bs.output_folder"
   ]
  },
  {
   "cell_type": "code",
   "execution_count": null,
   "metadata": {},
   "outputs": [],
   "source": [
    "bs.min_time  # this is based on the data time, not the time it was added"
   ]
  },
  {
   "cell_type": "code",
   "execution_count": null,
   "metadata": {},
   "outputs": [],
   "source": [
    "bs.max_time"
   ]
  },
  {
   "cell_type": "code",
   "execution_count": null,
   "metadata": {},
   "outputs": [],
   "source": [
    "bs.min_x"
   ]
  },
  {
   "cell_type": "code",
   "execution_count": null,
   "metadata": {},
   "outputs": [],
   "source": [
    "bs.max_x"
   ]
  },
  {
   "cell_type": "code",
   "execution_count": null,
   "metadata": {},
   "outputs": [],
   "source": [
    "bs.min_y"
   ]
  },
  {
   "cell_type": "code",
   "execution_count": null,
   "metadata": {},
   "outputs": [],
   "source": [
    "bs.max_y"
   ]
  },
  {
   "cell_type": "code",
   "execution_count": null,
   "metadata": {},
   "outputs": [],
   "source": [
    "bs.resolutions  # this grid is a single resolution 8 meter cell grid"
   ]
  },
  {
   "cell_type": "code",
   "execution_count": null,
   "metadata": {},
   "outputs": [],
   "source": [
    "# as mentioned before, data is organized first in tiles.  These tiles correspond to the folders in the grid directory.\n",
    "# here we have two total tiles that represent the grid.  Each is 1024 meters square.\n",
    "bs.tile_size"
   ]
  },
  {
   "cell_type": "code",
   "execution_count": null,
   "metadata": {},
   "outputs": [],
   "source": [
    "bs.tiles"
   ]
  },
  {
   "cell_type": "code",
   "execution_count": null,
   "metadata": {},
   "outputs": [],
   "source": [
    "# inside each of the tiles should be the grid and points that exist within the tile boundary\n",
    "tile = bs.tiles[0][0]"
   ]
  },
  {
   "cell_type": "code",
   "execution_count": null,
   "metadata": {},
   "outputs": [],
   "source": [
    "# points\n",
    "tile.data"
   ]
  },
  {
   "cell_type": "code",
   "execution_count": null,
   "metadata": {},
   "outputs": [],
   "source": [
    "# grid data\n",
    "tile.cells"
   ]
  },
  {
   "cell_type": "code",
   "execution_count": null,
   "metadata": {},
   "outputs": [],
   "source": [
    "# depth gridded data for the 8.0 meter resolution grid, can see that it is mostly empty space in this case\n",
    "tile.cells[8.0]['depth'].compute()"
   ]
  },
  {
   "cell_type": "code",
   "execution_count": null,
   "metadata": {},
   "outputs": [],
   "source": [
    "# since we chose resolution=None, and auto_resolution_mode=depth (the default arguments in generate_new_surface), the resolution\n",
    "#  for the tile cells will be created using the depth resolution lookup and the tile mean depth.  Next category after 90 meters is\n",
    "#  the 160 meter depth range, which corresponds to 8 meter resolution.\n",
    "\n",
    "from bathygrid.bgrid import depth_resolution_lookup"
   ]
  },
  {
   "cell_type": "code",
   "execution_count": null,
   "metadata": {},
   "outputs": [],
   "source": [
    "tile.mean_depth"
   ]
  },
  {
   "cell_type": "code",
   "execution_count": null,
   "metadata": {},
   "outputs": [],
   "source": [
    "depth_resolution_lookup[80]"
   ]
  },
  {
   "cell_type": "code",
   "execution_count": null,
   "metadata": {},
   "outputs": [],
   "source": [
    "depth_resolution_lookup[160]"
   ]
  },
  {
   "cell_type": "code",
   "execution_count": null,
   "metadata": {},
   "outputs": [],
   "source": [
    "# now we go back to the grid to look at data management.  When we added points to it from the fq object, they were registered\n",
    "#  under a tag in the grid object container.  The grid retains the file that the points came from as well as the date they were\n",
    "#  added.\n",
    "\n",
    "# you'll see that the data key is 'em2040_40111_05_23_2017_0' with the _0 at the end.  Since there can be millions of points\n",
    "#  in one Fqpr object, we sometimes have to add in chunks.  If that were the case, you would see 'em2040_40111_05_23_2017_1',\n",
    "#  'em2040_40111_05_23_2017_2', etc.\n",
    "\n",
    "bs.container"
   ]
  },
  {
   "cell_type": "code",
   "execution_count": null,
   "metadata": {},
   "outputs": [],
   "source": [
    "bs.container_timestamp"
   ]
  },
  {
   "cell_type": "code",
   "execution_count": null,
   "metadata": {},
   "outputs": [],
   "source": [
    "# The tile is the object that actually holds the points, so we can look at the tile container to figure out which points are\n",
    "#  from which container.  Here we can see that all the points from index 0 to index 48322 belong to this container.\n",
    "tile.container"
   ]
  },
  {
   "cell_type": "code",
   "execution_count": null,
   "metadata": {},
   "outputs": [],
   "source": [
    "cont_data = tile.data[0:48322]"
   ]
  },
  {
   "cell_type": "code",
   "execution_count": null,
   "metadata": {},
   "outputs": [],
   "source": [
    "# this allows us to easily add/remove points and track where they come from.  If we update the points in Kluster by\n",
    "#  re soundvelocity correcting or something and we need to then update the points in the grid, we can just remove all the points\n",
    "#  associated with that Fqpr object and re-add them.  This is what update_surface does.\n",
    "\n",
    "# lets show how to update the points by adding/removing this fqpr object\n",
    "bs = update_surface(bs, add_fqpr=fq, remove_fqpr=fq)"
   ]
  },
  {
   "cell_type": "code",
   "execution_count": null,
   "metadata": {},
   "outputs": [],
   "source": [
    "# so we can see that the points were removed, added, and the tiles were then gridded.  It is kind of brute-force, non\n",
    "#  elegant, but it is pretty reliable.\n",
    "\n",
    "# there are other routines you can do with update_surface.  You can also do a full regrid of the data if you like, although\n",
    "#  this really shouldn't ever be necessary.  Ideally you should be able to update the grid (regrid_option=update) while adding\n",
    "#  removing points as we did earlier\n",
    "bs = update_surface(bs, regrid_option='full')"
   ]
  },
  {
   "cell_type": "code",
   "execution_count": null,
   "metadata": {},
   "outputs": [],
   "source": [
    "# so you can see that the grid was updated without adding or removing points.\n",
    "\n",
    "# finally let's talk about exporting the grid.  bathygrid allows you to export to GDAL formats, although only GeoTIFF and\n",
    "#  BAG are supported currently, as well as a more basic csv option.  GeoTIFF is the simplest, so let's start there.\n",
    "\n",
    "bs.export(r'C:\\data_dir\\mygridpath\\mytiff.tif', export_format='geotiff')"
   ]
  },
  {
   "cell_type": "code",
   "execution_count": null,
   "metadata": {},
   "outputs": [],
   "source": [
    "# you'll see a 'mytiff_8.0_1.tif' file in there, implying that it is a 8.0 meter tif and is the 1st of the series.  Bathygrid\n",
    "#  will export in tiles, so you might get a 'mytiff_8.0_2.tif', etc. as well.  This prevents the exported grids from being\n",
    "#  too large to interact with efficiently.\n",
    "\n",
    "# if you were to generate a grid in variable resolution mode, you would get one tif per tile, per resolution.  Bathygrid\n",
    "#  does not currently export using multipage tifs or variable resolution BAGs.\n",
    "\n",
    "# you can do the same thing with BAG, although BAG is a little more metadata heavy.  You can just leave the defaults or you\n",
    "# can populate some of the keyword arguments.  Check the docs to learn more about the possible options.\n",
    "bs.export(r'C:\\data_dir\\mygridpath\\mybag.bag', organizational_name='noaa', position_name='scientist?', export_format='bag')"
   ]
  }
 ],
 "metadata": {
  "kernelspec": {
   "display_name": "Python 3",
   "language": "python",
   "name": "python3"
  },
  "language_info": {
   "codemirror_mode": {
    "name": "ipython",
    "version": 3
   },
   "file_extension": ".py",
   "mimetype": "text/x-python",
   "name": "python",
   "nbconvert_exporter": "python",
   "pygments_lexer": "ipython3",
   "version": "3.8.2"
  }
 },
 "nbformat": 4,
 "nbformat_minor": 4
}
