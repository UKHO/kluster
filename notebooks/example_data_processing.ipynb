{
 "cells": [
  {
   "cell_type": "code",
   "execution_count": 1,
   "metadata": {},
   "outputs": [],
   "source": [
    "# Examples related to data processing, last updated 11/2/2021, Kluster 0.8.2\n",
    "# uses the multibeam file hstb_kluster/test_data/0009_20170523_181119_FA2806.all\n",
    "# Written by Eric Younkin\n",
    "\n",
    "# data processing can be done in one of three ways:\n",
    "#  1. piece-wise lower level approach = use convert_multibeam, process_multibeam\n",
    "#  2. merged lower level approach = use perform_all_processing\n",
    "#  3. high level automated processing = use the intel process/service\n",
    "\n",
    "# --- SKIP TO 3 FOR THE RECOMMENDED PROCESSING ROUTINE --- #"
   ]
  },
  {
   "cell_type": "code",
   "execution_count": 2,
   "metadata": {},
   "outputs": [
    {
     "ename": "ImportError",
     "evalue": "cannot import name 'import_processed_navigation' from 'HSTB.kluster.fqpr_convenience' (C:\\PydroXL_19\\NOAA\\site-packages\\Python38\\HSTB\\kluster\\fqpr_convenience.py)",
     "output_type": "error",
     "traceback": [
      "\u001b[1;31m---------------------------------------------------------------------------\u001b[0m",
      "\u001b[1;31mImportError\u001b[0m                               Traceback (most recent call last)",
      "\u001b[1;32m<ipython-input-2-5946017bb7a8>\u001b[0m in \u001b[0;36m<module>\u001b[1;34m\u001b[0m\n\u001b[1;32m----> 1\u001b[1;33m \u001b[1;32mfrom\u001b[0m \u001b[0mHSTB\u001b[0m\u001b[1;33m.\u001b[0m\u001b[0mkluster\u001b[0m\u001b[1;33m.\u001b[0m\u001b[0mfqpr_convenience\u001b[0m \u001b[1;32mimport\u001b[0m \u001b[0mconvert_multibeam\u001b[0m\u001b[1;33m,\u001b[0m \u001b[0mprocess_multibeam\u001b[0m\u001b[1;33m,\u001b[0m \u001b[0mimport_processed_navigation\u001b[0m\u001b[1;33m,\u001b[0m\u001b[0;31m \u001b[0m\u001b[0;31m\\\u001b[0m\u001b[1;33m\u001b[0m\u001b[1;33m\u001b[0m\u001b[0m\n\u001b[0m\u001b[0;32m      2\u001b[0m     \u001b[0mperform_all_processing\u001b[0m\u001b[1;33m,\u001b[0m \u001b[0mreload_data\u001b[0m\u001b[1;33m\u001b[0m\u001b[1;33m\u001b[0m\u001b[0m\n\u001b[0;32m      3\u001b[0m \u001b[1;32mfrom\u001b[0m \u001b[0mHSTB\u001b[0m\u001b[1;33m.\u001b[0m\u001b[0mkluster\u001b[0m\u001b[1;33m.\u001b[0m\u001b[0mfqpr_intelligence\u001b[0m \u001b[1;32mimport\u001b[0m \u001b[0mintel_process\u001b[0m\u001b[1;33m,\u001b[0m \u001b[0mintel_process_service\u001b[0m\u001b[1;33m\u001b[0m\u001b[1;33m\u001b[0m\u001b[0m\n",
      "\u001b[1;31mImportError\u001b[0m: cannot import name 'import_processed_navigation' from 'HSTB.kluster.fqpr_convenience' (C:\\PydroXL_19\\NOAA\\site-packages\\Python38\\HSTB\\kluster\\fqpr_convenience.py)"
     ]
    }
   ],
   "source": [
    "from HSTB.kluster.fqpr_convenience import convert_multibeam, process_multibeam, import_processed_navigation, \\\n",
    "    perform_all_processing, reload_data\n",
    "from HSTB.kluster.fqpr_intelligence import intel_process, intel_process_service"
   ]
  },
  {
   "cell_type": "code",
   "execution_count": null,
   "metadata": {},
   "outputs": [],
   "source": [
    "#####################################\n",
    "# 1. piece-wise lower level approach\n",
    "#####################################\n",
    "\n",
    "# conversion will generate data in the Kluster zarr/xarray format for you to use\n",
    "# can either be a list of multibeam files\n",
    "# fq = convert_multibeam([r\"C:\\data_dir\\0009_20170523_181119_FA2806.all\",])\n",
    "# a path to a single file\n",
    "# fq = convert_multibeam(r\"C:\\data_dir\\\\0009_20170523_181119_FA2806.all\")\n",
    "# or a path to a directory of files\n",
    "# fq = convert_multibeam(r\"C:\\data_dir\")"
   ]
  },
  {
   "cell_type": "code",
   "execution_count": null,
   "metadata": {},
   "outputs": [],
   "source": [
    "fq = convert_multibeam(r\"C:\\data_dir\\0009_20170523_181119_FA2806.all\")"
   ]
  },
  {
   "cell_type": "code",
   "execution_count": null,
   "metadata": {},
   "outputs": [],
   "source": [
    "# look at the summary of the converted data\n",
    "fq"
   ]
  },
  {
   "cell_type": "code",
   "execution_count": null,
   "metadata": {},
   "outputs": [],
   "source": [
    "# the converted ping datasets are in fq.multibeam.raw_ping.  There is one dataset for each sonar head.  These datasets\n",
    "#  have (time, beam) dimensions, where each time value is a new ping."
   ]
  },
  {
   "cell_type": "code",
   "execution_count": null,
   "metadata": {},
   "outputs": [],
   "source": [
    "# number of heads\n",
    "len(fq.multibeam.raw_ping)"
   ]
  },
  {
   "cell_type": "code",
   "execution_count": null,
   "metadata": {},
   "outputs": [],
   "source": [
    "# dataset for the first (and only) head\n",
    "fq.multibeam.raw_ping[0]"
   ]
  },
  {
   "cell_type": "code",
   "execution_count": null,
   "metadata": {},
   "outputs": [],
   "source": [
    "# number of pings\n",
    "fq.multibeam.raw_ping[0].time.size"
   ]
  },
  {
   "cell_type": "code",
   "execution_count": null,
   "metadata": {},
   "outputs": [],
   "source": [
    "# number of beams\n",
    "fq.multibeam.raw_ping[0].beam.size"
   ]
  },
  {
   "cell_type": "code",
   "execution_count": null,
   "metadata": {},
   "outputs": [],
   "source": [
    "# fq.multibeam.raw_ping[0] is an xarray dataset, so we can access data using the dataset api\n",
    "fq.multibeam.raw_ping[0].beampointingangle"
   ]
  },
  {
   "cell_type": "code",
   "execution_count": null,
   "metadata": {},
   "outputs": [],
   "source": [
    "# you might have some data that is not in the multibeam file, for instance:\n",
    "# loading from a post processed Applanix SBET file\n",
    "fq = import_processed_navigation(fq, [r'C:\\data_dir\\sbet.out'], [r'C:\\data_dir\\smrmsg.out'], [r'C:\\data_dir\\export_log.txt'])"
   ]
  },
  {
   "cell_type": "code",
   "execution_count": null,
   "metadata": {},
   "outputs": [],
   "source": [
    "# now you can process the converted/imported data.  The defaults will do a full processing run on all data, but you can\n",
    "#  specify a few things if you like\n",
    "# the default run\n",
    "fq = process_multibeam(fq)"
   ]
  },
  {
   "cell_type": "code",
   "execution_count": null,
   "metadata": {},
   "outputs": [],
   "source": [
    "# include another sound velocity file\n",
    "fq = process_multibeam(fq, add_cast_files=r'C:\\data_dir\\mysvpfile.svp')"
   ]
  },
  {
   "cell_type": "code",
   "execution_count": null,
   "metadata": {},
   "outputs": [],
   "source": [
    "# specify coordinate system and vertical reference\n",
    "fq = process_multibeam(fq, coord_system='WGS84', vert_ref='ellipse')"
   ]
  },
  {
   "cell_type": "code",
   "execution_count": null,
   "metadata": {},
   "outputs": [],
   "source": [
    "# reload the data later on\n",
    "fq = reload_data(r\"C:\\data_dir\\converted\")"
   ]
  },
  {
   "cell_type": "code",
   "execution_count": null,
   "metadata": {},
   "outputs": [],
   "source": [
    "#####################################\n",
    "# 2. merged lower level approach\n",
    "#####################################\n",
    "\n",
    "# all the above can be combined into the perform_all_processing command for ease of use\n",
    "fq = perform_all_processing(r\"C:\\data_dir\\0009_20170523_181119_FA2806.all\", navfiles=[r'C:\\data_dir\\sbet.out'],\n",
    "                            errorfiles=[r'C:\\data_dir\\smrmsg.out'], logfiles=[r'C:\\data_dir\\export_log.txt'],\n",
    "                            add_cast_files=r'C:\\data_dir\\mysvpfile.svp', coord_system='WGS84', vert_ref='ellipse')"
   ]
  },
  {
   "cell_type": "code",
   "execution_count": null,
   "metadata": {},
   "outputs": [],
   "source": [
    "# reload the data later on\n",
    "fq = reload_data(r\"C:\\data_dir\\converted\")"
   ]
  },
  {
   "cell_type": "code",
   "execution_count": null,
   "metadata": {},
   "outputs": [],
   "source": [
    "########################################################################\n",
    "# 3. high level automated processing = use the intel process/service\n",
    "########################################################################\n",
    "\n",
    "# when you drag in new multibeam data into Kluster, it generates a new conversion action and organizes data into:\n",
    "#  sonarmodelnumber_serialnumber_dateofsurvey\n",
    "# which it gets from the multibeam data itself.  This is the Kluster Intelligence module that will basically perform\n",
    "#  the convert_multibeam and process_multibeam actions for you, putting data in the right place and doing only those\n",
    "#  steps that are required.  For this reason it is recommended that you use the intelligence module rather than\n",
    "#  the core processing routines described in 1 and 2.  Learn more here: https://kluster.readthedocs.io/en/latest/indepth/intel.html\n",
    "\n",
    "# the intel process command will perform just like if you were to drag in new files in Kluster.  You just provide all the\n",
    "#  files that you want to add, and Kluster Intelligence determines the type of file, how to add it and what processing\n",
    "#  steps to take.  Those steps are all performed and you get the Fqpr object back\n"
   ]
  },
  {
   "cell_type": "code",
   "execution_count": null,
   "metadata": {},
   "outputs": [],
   "source": [
    "# just like all the others, either provide a list of files...\n",
    "_, fq = intel_process([r\"C:\\data_dir\\0009_20170523_181119_FA2806.all\",\n",
    "                       r'C:\\data_dir\\sbet.out', r'C:\\data_dir\\smrmsg.out',\n",
    "                       r'C:\\data_dir\\export_log.txt', r'C:\\data_dir\\mysvpfile.svp'],\n",
    "                      coord_system='WGS84', vert_ref='ellipse')"
   ]
  },
  {
   "cell_type": "code",
   "execution_count": null,
   "metadata": {},
   "outputs": [],
   "source": [
    "# a single file or a path to a directory full of files:\n",
    "_, fq = intel_process(r\"C:\\data_dir\")"
   ]
  },
  {
   "cell_type": "code",
   "execution_count": null,
   "metadata": {},
   "outputs": [],
   "source": [
    "# it will behave much like step 2, you probably won't notice a difference during the processing\n",
    "# what you should notice is that the output directory is now a folder with the sonarmodelnumber_serialnumber_dateofsurvey of the file\n",
    "# - note: fq is a list of the converted fqpr objects, since data is organized by modelnumber,etc., you might end up with multiple containers\n",
    "fq[0].output_folder"
   ]
  },
  {
   "cell_type": "code",
   "execution_count": null,
   "metadata": {},
   "outputs": [],
   "source": [
    "# the last thing to mention is the intel_process_service, which combines intel_process with folder monitoring.  The service\n",
    "#  will monitor a folder and add/process any files that you add to that directory (or are already in there)\n",
    "_, fq = intel_process_service(r\"C:\\data_dir\")\n",
    "# this will lock up the console until you force it to quit"
   ]
  },
  {
   "cell_type": "code",
   "execution_count": null,
   "metadata": {},
   "outputs": [],
   "source": [
    "# reload the data later on\n",
    "fq = reload_data(r\"C:\\data_dir\\em2040_40111_05_23_2017\")"
   ]
  }
 ],
 "metadata": {
  "kernelspec": {
   "display_name": "Python 3",
   "language": "python",
   "name": "python3"
  },
  "language_info": {
   "codemirror_mode": {
    "name": "ipython",
    "version": 3
   },
   "file_extension": ".py",
   "mimetype": "text/x-python",
   "name": "python",
   "nbconvert_exporter": "python",
   "pygments_lexer": "ipython3",
   "version": "3.8.2"
  }
 },
 "nbformat": 4,
 "nbformat_minor": 4
}
